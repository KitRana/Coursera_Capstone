{
 "cells": [
  {
   "cell_type": "code",
   "execution_count": 3,
   "metadata": {},
   "outputs": [],
   "source": [
    "# # default\n",
    "# CLIENT_ID = 'BQ0CRPJBBWUOZK2EVOGPAX3UJ3YHPGDRR3CYXOAQBJ5PJ1XX' # your Foursquare ID\n",
    "# CLIENT_SECRET = 'VXTX3QW2ZSEV135W5C4TFPJD0JYWEQFFB5BZR5PCX3ASYD5Q' # your Foursquare Secret\n",
    "\n",
    "# kr08\n",
    "CLIENT_ID = 'M0F4EALUIFWWMDFOX1AFFLXUQ1IEW0OMZNTTWRGT0TLLRKGH'\n",
    "CLIENT_SECRET = 'BQ00TUVAU0X0WUG5GLG0AQV4MV0YKN4JI2HCIAIUCPWPOZ0J'"
   ]
  },
  {
   "cell_type": "code",
   "execution_count": null,
   "metadata": {},
   "outputs": [],
   "source": []
  }
 ],
 "metadata": {
  "kernelspec": {
   "display_name": "Python 3",
   "language": "python",
   "name": "python3"
  },
  "language_info": {
   "codemirror_mode": {
    "name": "ipython",
    "version": 3
   },
   "file_extension": ".py",
   "mimetype": "text/x-python",
   "name": "python",
   "nbconvert_exporter": "python",
   "pygments_lexer": "ipython3",
   "version": "3.7.3"
  }
 },
 "nbformat": 4,
 "nbformat_minor": 2
}
